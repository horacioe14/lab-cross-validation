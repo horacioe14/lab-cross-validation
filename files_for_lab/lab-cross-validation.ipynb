{
 "cells": [
  {
   "cell_type": "markdown",
   "metadata": {},
   "source": [
    "### EDA"
   ]
  },
  {
   "cell_type": "code",
   "execution_count": 1,
   "metadata": {},
   "outputs": [],
   "source": [
    "# Instructions\n",
    "# Apply SMOTE for upsampling the data\n",
    "\n",
    "# Use logistic regression to fit the model and compute the accuracy of the model.\n",
    "# Use decision tree classifier to fit the model and compute the accuracy of the model.\n",
    "# Compare the accuracies of the two models.\n",
    "# Apply TomekLinks for downsampling\n",
    "\n",
    "# It is important to remember that it does not make the two classes equal but only removes the points from the majority class that are close to other points in minority class.\n",
    "# Use logistic regression to fit the model and compute the accuracy of the model.\n",
    "# Use decision tree classifier to fit the model and compute the accuracy of the model.\n",
    "# Compare the accuracies of the two models.\n",
    "# You can also apply this algorithm one more time and check the how the imbalance in the two classes changed from the last time."
   ]
  },
  {
   "cell_type": "code",
   "execution_count": 20,
   "metadata": {},
   "outputs": [],
   "source": [
    "import pandas as pd\n",
    "import numpy as np\n",
    "from sklearn.preprocessing import StandardScaler\n",
    "from sklearn.model_selection import train_test_split\n",
    "from sklearn.linear_model import LogisticRegression\n",
    "from sklearn.metrics import  accuracy_score\n",
    "from imblearn.over_sampling import SMOTE\n",
    "from imblearn.under_sampling import TomekLinks\n",
    "from sklearn.tree import DecisionTreeClassifier\n",
    "\n",
    "\n",
    "warnings.filterwarnings('ignore')"
   ]
  },
  {
   "cell_type": "code",
   "execution_count": 3,
   "metadata": {
    "scrolled": true
   },
   "outputs": [],
   "source": [
    "data = pd.read_csv('Customer-Churn.csv')"
   ]
  },
  {
   "cell_type": "code",
   "execution_count": 4,
   "metadata": {},
   "outputs": [
    {
     "data": {
      "text/plain": [
       "(7043, 16)"
      ]
     },
     "execution_count": 4,
     "metadata": {},
     "output_type": "execute_result"
    }
   ],
   "source": [
    "data.shape"
   ]
  },
  {
   "cell_type": "code",
   "execution_count": 5,
   "metadata": {},
   "outputs": [
    {
     "data": {
      "text/html": [
       "<div>\n",
       "<style scoped>\n",
       "    .dataframe tbody tr th:only-of-type {\n",
       "        vertical-align: middle;\n",
       "    }\n",
       "\n",
       "    .dataframe tbody tr th {\n",
       "        vertical-align: top;\n",
       "    }\n",
       "\n",
       "    .dataframe thead th {\n",
       "        text-align: right;\n",
       "    }\n",
       "</style>\n",
       "<table border=\"1\" class=\"dataframe\">\n",
       "  <thead>\n",
       "    <tr style=\"text-align: right;\">\n",
       "      <th></th>\n",
       "      <th>SeniorCitizen</th>\n",
       "      <th>tenure</th>\n",
       "      <th>MonthlyCharges</th>\n",
       "    </tr>\n",
       "  </thead>\n",
       "  <tbody>\n",
       "    <tr>\n",
       "      <th>count</th>\n",
       "      <td>7043.000000</td>\n",
       "      <td>7043.000000</td>\n",
       "      <td>7043.000000</td>\n",
       "    </tr>\n",
       "    <tr>\n",
       "      <th>mean</th>\n",
       "      <td>0.162147</td>\n",
       "      <td>32.371149</td>\n",
       "      <td>64.761692</td>\n",
       "    </tr>\n",
       "    <tr>\n",
       "      <th>std</th>\n",
       "      <td>0.368612</td>\n",
       "      <td>24.559481</td>\n",
       "      <td>30.090047</td>\n",
       "    </tr>\n",
       "    <tr>\n",
       "      <th>min</th>\n",
       "      <td>0.000000</td>\n",
       "      <td>0.000000</td>\n",
       "      <td>18.250000</td>\n",
       "    </tr>\n",
       "    <tr>\n",
       "      <th>25%</th>\n",
       "      <td>0.000000</td>\n",
       "      <td>9.000000</td>\n",
       "      <td>35.500000</td>\n",
       "    </tr>\n",
       "    <tr>\n",
       "      <th>50%</th>\n",
       "      <td>0.000000</td>\n",
       "      <td>29.000000</td>\n",
       "      <td>70.350000</td>\n",
       "    </tr>\n",
       "    <tr>\n",
       "      <th>75%</th>\n",
       "      <td>0.000000</td>\n",
       "      <td>55.000000</td>\n",
       "      <td>89.850000</td>\n",
       "    </tr>\n",
       "    <tr>\n",
       "      <th>max</th>\n",
       "      <td>1.000000</td>\n",
       "      <td>72.000000</td>\n",
       "      <td>118.750000</td>\n",
       "    </tr>\n",
       "  </tbody>\n",
       "</table>\n",
       "</div>"
      ],
      "text/plain": [
       "       SeniorCitizen       tenure  MonthlyCharges\n",
       "count    7043.000000  7043.000000     7043.000000\n",
       "mean        0.162147    32.371149       64.761692\n",
       "std         0.368612    24.559481       30.090047\n",
       "min         0.000000     0.000000       18.250000\n",
       "25%         0.000000     9.000000       35.500000\n",
       "50%         0.000000    29.000000       70.350000\n",
       "75%         0.000000    55.000000       89.850000\n",
       "max         1.000000    72.000000      118.750000"
      ]
     },
     "execution_count": 5,
     "metadata": {},
     "output_type": "execute_result"
    }
   ],
   "source": [
    "data.describe()"
   ]
  },
  {
   "cell_type": "code",
   "execution_count": 6,
   "metadata": {},
   "outputs": [
    {
     "data": {
      "text/html": [
       "<div>\n",
       "<style scoped>\n",
       "    .dataframe tbody tr th:only-of-type {\n",
       "        vertical-align: middle;\n",
       "    }\n",
       "\n",
       "    .dataframe tbody tr th {\n",
       "        vertical-align: top;\n",
       "    }\n",
       "\n",
       "    .dataframe thead th {\n",
       "        text-align: right;\n",
       "    }\n",
       "</style>\n",
       "<table border=\"1\" class=\"dataframe\">\n",
       "  <thead>\n",
       "    <tr style=\"text-align: right;\">\n",
       "      <th></th>\n",
       "      <th>gender</th>\n",
       "      <th>SeniorCitizen</th>\n",
       "      <th>Partner</th>\n",
       "      <th>Dependents</th>\n",
       "      <th>tenure</th>\n",
       "      <th>PhoneService</th>\n",
       "      <th>OnlineSecurity</th>\n",
       "      <th>OnlineBackup</th>\n",
       "      <th>DeviceProtection</th>\n",
       "      <th>TechSupport</th>\n",
       "      <th>StreamingTV</th>\n",
       "      <th>StreamingMovies</th>\n",
       "      <th>Contract</th>\n",
       "      <th>MonthlyCharges</th>\n",
       "      <th>TotalCharges</th>\n",
       "      <th>Churn</th>\n",
       "    </tr>\n",
       "  </thead>\n",
       "  <tbody>\n",
       "    <tr>\n",
       "      <th>0</th>\n",
       "      <td>Female</td>\n",
       "      <td>0</td>\n",
       "      <td>Yes</td>\n",
       "      <td>No</td>\n",
       "      <td>1</td>\n",
       "      <td>No</td>\n",
       "      <td>No</td>\n",
       "      <td>Yes</td>\n",
       "      <td>No</td>\n",
       "      <td>No</td>\n",
       "      <td>No</td>\n",
       "      <td>No</td>\n",
       "      <td>Month-to-month</td>\n",
       "      <td>29.85</td>\n",
       "      <td>29.85</td>\n",
       "      <td>No</td>\n",
       "    </tr>\n",
       "    <tr>\n",
       "      <th>1</th>\n",
       "      <td>Male</td>\n",
       "      <td>0</td>\n",
       "      <td>No</td>\n",
       "      <td>No</td>\n",
       "      <td>34</td>\n",
       "      <td>Yes</td>\n",
       "      <td>Yes</td>\n",
       "      <td>No</td>\n",
       "      <td>Yes</td>\n",
       "      <td>No</td>\n",
       "      <td>No</td>\n",
       "      <td>No</td>\n",
       "      <td>One year</td>\n",
       "      <td>56.95</td>\n",
       "      <td>1889.5</td>\n",
       "      <td>No</td>\n",
       "    </tr>\n",
       "    <tr>\n",
       "      <th>2</th>\n",
       "      <td>Male</td>\n",
       "      <td>0</td>\n",
       "      <td>No</td>\n",
       "      <td>No</td>\n",
       "      <td>2</td>\n",
       "      <td>Yes</td>\n",
       "      <td>Yes</td>\n",
       "      <td>Yes</td>\n",
       "      <td>No</td>\n",
       "      <td>No</td>\n",
       "      <td>No</td>\n",
       "      <td>No</td>\n",
       "      <td>Month-to-month</td>\n",
       "      <td>53.85</td>\n",
       "      <td>108.15</td>\n",
       "      <td>Yes</td>\n",
       "    </tr>\n",
       "    <tr>\n",
       "      <th>3</th>\n",
       "      <td>Male</td>\n",
       "      <td>0</td>\n",
       "      <td>No</td>\n",
       "      <td>No</td>\n",
       "      <td>45</td>\n",
       "      <td>No</td>\n",
       "      <td>Yes</td>\n",
       "      <td>No</td>\n",
       "      <td>Yes</td>\n",
       "      <td>Yes</td>\n",
       "      <td>No</td>\n",
       "      <td>No</td>\n",
       "      <td>One year</td>\n",
       "      <td>42.30</td>\n",
       "      <td>1840.75</td>\n",
       "      <td>No</td>\n",
       "    </tr>\n",
       "    <tr>\n",
       "      <th>4</th>\n",
       "      <td>Female</td>\n",
       "      <td>0</td>\n",
       "      <td>No</td>\n",
       "      <td>No</td>\n",
       "      <td>2</td>\n",
       "      <td>Yes</td>\n",
       "      <td>No</td>\n",
       "      <td>No</td>\n",
       "      <td>No</td>\n",
       "      <td>No</td>\n",
       "      <td>No</td>\n",
       "      <td>No</td>\n",
       "      <td>Month-to-month</td>\n",
       "      <td>70.70</td>\n",
       "      <td>151.65</td>\n",
       "      <td>Yes</td>\n",
       "    </tr>\n",
       "  </tbody>\n",
       "</table>\n",
       "</div>"
      ],
      "text/plain": [
       "   gender  SeniorCitizen Partner Dependents  tenure PhoneService  \\\n",
       "0  Female              0     Yes         No       1           No   \n",
       "1    Male              0      No         No      34          Yes   \n",
       "2    Male              0      No         No       2          Yes   \n",
       "3    Male              0      No         No      45           No   \n",
       "4  Female              0      No         No       2          Yes   \n",
       "\n",
       "  OnlineSecurity OnlineBackup DeviceProtection TechSupport StreamingTV  \\\n",
       "0             No          Yes               No          No          No   \n",
       "1            Yes           No              Yes          No          No   \n",
       "2            Yes          Yes               No          No          No   \n",
       "3            Yes           No              Yes         Yes          No   \n",
       "4             No           No               No          No          No   \n",
       "\n",
       "  StreamingMovies        Contract  MonthlyCharges TotalCharges Churn  \n",
       "0              No  Month-to-month           29.85        29.85    No  \n",
       "1              No        One year           56.95       1889.5    No  \n",
       "2              No  Month-to-month           53.85       108.15   Yes  \n",
       "3              No        One year           42.30      1840.75    No  \n",
       "4              No  Month-to-month           70.70       151.65   Yes  "
      ]
     },
     "execution_count": 6,
     "metadata": {},
     "output_type": "execute_result"
    }
   ],
   "source": [
    "data.head()"
   ]
  },
  {
   "cell_type": "code",
   "execution_count": 7,
   "metadata": {},
   "outputs": [
    {
     "data": {
      "text/plain": [
       "dtype('O')"
      ]
     },
     "execution_count": 7,
     "metadata": {},
     "output_type": "execute_result"
    }
   ],
   "source": [
    "data['TotalCharges'].dtypes"
   ]
  },
  {
   "cell_type": "code",
   "execution_count": 8,
   "metadata": {},
   "outputs": [],
   "source": [
    "data['TotalCharges'] = pd.to_numeric(data['TotalCharges'], errors = \"coerce\")"
   ]
  },
  {
   "cell_type": "code",
   "execution_count": 9,
   "metadata": {},
   "outputs": [],
   "source": [
    "data = data.dropna(axis = \"index\")"
   ]
  },
  {
   "cell_type": "code",
   "execution_count": 10,
   "metadata": {},
   "outputs": [
    {
     "data": {
      "text/plain": [
       "gender              0\n",
       "SeniorCitizen       0\n",
       "Partner             0\n",
       "Dependents          0\n",
       "tenure              0\n",
       "PhoneService        0\n",
       "OnlineSecurity      0\n",
       "OnlineBackup        0\n",
       "DeviceProtection    0\n",
       "TechSupport         0\n",
       "StreamingTV         0\n",
       "StreamingMovies     0\n",
       "Contract            0\n",
       "MonthlyCharges      0\n",
       "TotalCharges        0\n",
       "Churn               0\n",
       "dtype: int64"
      ]
     },
     "execution_count": 10,
     "metadata": {},
     "output_type": "execute_result"
    }
   ],
   "source": [
    "data.isna().sum()"
   ]
  },
  {
   "cell_type": "code",
   "execution_count": 11,
   "metadata": {},
   "outputs": [],
   "source": [
    "num = data.select_dtypes(include = ['float64','int64'])\n",
    "cat = data.select_dtypes(include = 'object')\n",
    "cat = cat.drop(['Churn'], axis = 1)"
   ]
  },
  {
   "cell_type": "code",
   "execution_count": 12,
   "metadata": {},
   "outputs": [
    {
     "data": {
      "text/plain": [
       "(7032, 4)"
      ]
     },
     "execution_count": 12,
     "metadata": {},
     "output_type": "execute_result"
    }
   ],
   "source": [
    "num.shape"
   ]
  },
  {
   "cell_type": "code",
   "execution_count": 15,
   "metadata": {},
   "outputs": [],
   "source": [
    "cat_dum = pd.get_dummies(cat, drop_first = True)"
   ]
  },
  {
   "cell_type": "markdown",
   "metadata": {},
   "source": [
    "###  SMOTE"
   ]
  },
  {
   "cell_type": "code",
   "execution_count": 18,
   "metadata": {},
   "outputs": [
    {
     "name": "stdout",
     "output_type": "stream",
     "text": [
      "[['No' 5163]\n",
      " ['Yes' 5163]]\n"
     ]
    }
   ],
   "source": [
    "data_dum = pd.concat([num, data['Churn'],cat_dum],axis=1)\n",
    "smote = SMOTE()\n",
    "y = data_dum['Churn']\n",
    "X = data_dum.drop(['Churn'], axis=1)\n",
    "X_sm, y_sm = smote.fit_resample(X, y)\n",
    "\n",
    "unique, counts = np.unique(y_sm, return_counts=True)\n",
    "print(np.asarray((unique, counts)).T)"
   ]
  },
  {
   "cell_type": "code",
   "execution_count": 22,
   "metadata": {},
   "outputs": [
    {
     "data": {
      "text/html": [
       "<div>\n",
       "<style scoped>\n",
       "    .dataframe tbody tr th:only-of-type {\n",
       "        vertical-align: middle;\n",
       "    }\n",
       "\n",
       "    .dataframe tbody tr th {\n",
       "        vertical-align: top;\n",
       "    }\n",
       "\n",
       "    .dataframe thead th {\n",
       "        text-align: right;\n",
       "    }\n",
       "</style>\n",
       "<table border=\"1\" class=\"dataframe\">\n",
       "  <thead>\n",
       "    <tr style=\"text-align: right;\">\n",
       "      <th></th>\n",
       "      <th>SeniorCitizen</th>\n",
       "      <th>tenure</th>\n",
       "      <th>MonthlyCharges</th>\n",
       "      <th>TotalCharges</th>\n",
       "      <th>4</th>\n",
       "      <th>5</th>\n",
       "      <th>6</th>\n",
       "      <th>7</th>\n",
       "      <th>8</th>\n",
       "      <th>9</th>\n",
       "      <th>...</th>\n",
       "      <th>12</th>\n",
       "      <th>13</th>\n",
       "      <th>14</th>\n",
       "      <th>15</th>\n",
       "      <th>16</th>\n",
       "      <th>17</th>\n",
       "      <th>18</th>\n",
       "      <th>19</th>\n",
       "      <th>20</th>\n",
       "      <th>21</th>\n",
       "    </tr>\n",
       "  </thead>\n",
       "  <tbody>\n",
       "    <tr>\n",
       "      <th>0</th>\n",
       "      <td>-0.395218</td>\n",
       "      <td>-1.115055</td>\n",
       "      <td>-1.333039</td>\n",
       "      <td>-0.926634</td>\n",
       "      <td>-0.875751</td>\n",
       "      <td>1.277564</td>\n",
       "      <td>-0.527079</td>\n",
       "      <td>-2.961276</td>\n",
       "      <td>-0.439708</td>\n",
       "      <td>-0.512952</td>\n",
       "      <td>...</td>\n",
       "      <td>-0.439708</td>\n",
       "      <td>-0.616981</td>\n",
       "      <td>-0.439708</td>\n",
       "      <td>-0.515059</td>\n",
       "      <td>-0.439708</td>\n",
       "      <td>-0.743807</td>\n",
       "      <td>-0.439708</td>\n",
       "      <td>-0.75152</td>\n",
       "      <td>-0.421375</td>\n",
       "      <td>-0.443466</td>\n",
       "    </tr>\n",
       "    <tr>\n",
       "      <th>1</th>\n",
       "      <td>-0.395218</td>\n",
       "      <td>0.263834</td>\n",
       "      <td>-0.388269</td>\n",
       "      <td>-0.071767</td>\n",
       "      <td>1.141877</td>\n",
       "      <td>-0.782740</td>\n",
       "      <td>-0.527079</td>\n",
       "      <td>0.337692</td>\n",
       "      <td>-0.439708</td>\n",
       "      <td>1.949502</td>\n",
       "      <td>...</td>\n",
       "      <td>-0.439708</td>\n",
       "      <td>1.620795</td>\n",
       "      <td>-0.439708</td>\n",
       "      <td>-0.515059</td>\n",
       "      <td>-0.439708</td>\n",
       "      <td>-0.743807</td>\n",
       "      <td>-0.439708</td>\n",
       "      <td>-0.75152</td>\n",
       "      <td>2.373180</td>\n",
       "      <td>-0.443466</td>\n",
       "    </tr>\n",
       "    <tr>\n",
       "      <th>2</th>\n",
       "      <td>-0.395218</td>\n",
       "      <td>-1.073270</td>\n",
       "      <td>-0.496343</td>\n",
       "      <td>-0.890640</td>\n",
       "      <td>1.141877</td>\n",
       "      <td>-0.782740</td>\n",
       "      <td>-0.527079</td>\n",
       "      <td>0.337692</td>\n",
       "      <td>-0.439708</td>\n",
       "      <td>1.949502</td>\n",
       "      <td>...</td>\n",
       "      <td>-0.439708</td>\n",
       "      <td>-0.616981</td>\n",
       "      <td>-0.439708</td>\n",
       "      <td>-0.515059</td>\n",
       "      <td>-0.439708</td>\n",
       "      <td>-0.743807</td>\n",
       "      <td>-0.439708</td>\n",
       "      <td>-0.75152</td>\n",
       "      <td>-0.421375</td>\n",
       "      <td>-0.443466</td>\n",
       "    </tr>\n",
       "    <tr>\n",
       "      <th>3</th>\n",
       "      <td>-0.395218</td>\n",
       "      <td>0.723463</td>\n",
       "      <td>-0.899003</td>\n",
       "      <td>-0.094177</td>\n",
       "      <td>1.141877</td>\n",
       "      <td>-0.782740</td>\n",
       "      <td>-0.527079</td>\n",
       "      <td>-2.961276</td>\n",
       "      <td>-0.439708</td>\n",
       "      <td>1.949502</td>\n",
       "      <td>...</td>\n",
       "      <td>-0.439708</td>\n",
       "      <td>1.620795</td>\n",
       "      <td>-0.439708</td>\n",
       "      <td>1.941524</td>\n",
       "      <td>-0.439708</td>\n",
       "      <td>-0.743807</td>\n",
       "      <td>-0.439708</td>\n",
       "      <td>-0.75152</td>\n",
       "      <td>2.373180</td>\n",
       "      <td>-0.443466</td>\n",
       "    </tr>\n",
       "    <tr>\n",
       "      <th>4</th>\n",
       "      <td>-0.395218</td>\n",
       "      <td>-1.073270</td>\n",
       "      <td>0.091088</td>\n",
       "      <td>-0.870643</td>\n",
       "      <td>-0.875751</td>\n",
       "      <td>-0.782740</td>\n",
       "      <td>-0.527079</td>\n",
       "      <td>0.337692</td>\n",
       "      <td>-0.439708</td>\n",
       "      <td>-0.512952</td>\n",
       "      <td>...</td>\n",
       "      <td>-0.439708</td>\n",
       "      <td>-0.616981</td>\n",
       "      <td>-0.439708</td>\n",
       "      <td>-0.515059</td>\n",
       "      <td>-0.439708</td>\n",
       "      <td>-0.743807</td>\n",
       "      <td>-0.439708</td>\n",
       "      <td>-0.75152</td>\n",
       "      <td>-0.421375</td>\n",
       "      <td>-0.443466</td>\n",
       "    </tr>\n",
       "  </tbody>\n",
       "</table>\n",
       "<p>5 rows × 22 columns</p>\n",
       "</div>"
      ],
      "text/plain": [
       "   SeniorCitizen    tenure  MonthlyCharges  TotalCharges         4         5  \\\n",
       "0      -0.395218 -1.115055       -1.333039     -0.926634 -0.875751  1.277564   \n",
       "1      -0.395218  0.263834       -0.388269     -0.071767  1.141877 -0.782740   \n",
       "2      -0.395218 -1.073270       -0.496343     -0.890640  1.141877 -0.782740   \n",
       "3      -0.395218  0.723463       -0.899003     -0.094177  1.141877 -0.782740   \n",
       "4      -0.395218 -1.073270        0.091088     -0.870643 -0.875751 -0.782740   \n",
       "\n",
       "          6         7         8         9  ...        12        13        14  \\\n",
       "0 -0.527079 -2.961276 -0.439708 -0.512952  ... -0.439708 -0.616981 -0.439708   \n",
       "1 -0.527079  0.337692 -0.439708  1.949502  ... -0.439708  1.620795 -0.439708   \n",
       "2 -0.527079  0.337692 -0.439708  1.949502  ... -0.439708 -0.616981 -0.439708   \n",
       "3 -0.527079 -2.961276 -0.439708  1.949502  ... -0.439708  1.620795 -0.439708   \n",
       "4 -0.527079  0.337692 -0.439708 -0.512952  ... -0.439708 -0.616981 -0.439708   \n",
       "\n",
       "         15        16        17        18       19        20        21  \n",
       "0 -0.515059 -0.439708 -0.743807 -0.439708 -0.75152 -0.421375 -0.443466  \n",
       "1 -0.515059 -0.439708 -0.743807 -0.439708 -0.75152  2.373180 -0.443466  \n",
       "2 -0.515059 -0.439708 -0.743807 -0.439708 -0.75152 -0.421375 -0.443466  \n",
       "3  1.941524 -0.439708 -0.743807 -0.439708 -0.75152  2.373180 -0.443466  \n",
       "4 -0.515059 -0.439708 -0.743807 -0.439708 -0.75152 -0.421375 -0.443466  \n",
       "\n",
       "[5 rows x 22 columns]"
      ]
     },
     "execution_count": 22,
     "metadata": {},
     "output_type": "execute_result"
    }
   ],
   "source": [
    " \n",
    "transformer = StandardScaler().fit(X_sm)\n",
    "X_sm_standarized = transformer.transform(X_sm)\n",
    "X_sm_standarized = pd.DataFrame(X_sm_standarized)\n",
    "X_sm_standarized.columns = X_sm_standarized.columns.astype(str)\n",
    "X_sm_standarized.rename(columns={'0':'SeniorCitizen', '1':'tenure', '2':'MonthlyCharges', '3':'TotalCharges'}, inplace=True)\n",
    "X_sm_standarized.head()\n"
   ]
  },
  {
   "cell_type": "code",
   "execution_count": 28,
   "metadata": {},
   "outputs": [],
   "source": [
    "from sklearn.model_selection import train_test_split\n",
    "\n",
    "X_train, X_test, y_train, y_test = train_test_split(X_sm_standarized, y_sm, test_size=0.3, random_state=100)"
   ]
  },
  {
   "cell_type": "code",
   "execution_count": 30,
   "metadata": {},
   "outputs": [
    {
     "data": {
      "text/plain": [
       "0.8308586184635248"
      ]
     },
     "execution_count": 30,
     "metadata": {},
     "output_type": "execute_result"
    }
   ],
   "source": [
    "model = LogisticRegression()\n",
    "model.fit(X_train,y_train)\n",
    "model.score(X_test,y_test)"
   ]
  },
  {
   "cell_type": "code",
   "execution_count": 32,
   "metadata": {},
   "outputs": [
    {
     "name": "stdout",
     "output_type": "stream",
     "text": [
      "The accuracy of the model is: 0.77\n"
     ]
    }
   ],
   "source": [
    "model_dt = DecisionTreeClassifier()\n",
    "model_dt.fit(X_train, y_train)\n",
    "predictions_dt = model.predict(X_test)\n",
    "print(\"The accuracy of the model is: {:4.2f}\".format(model_dt.score(X_test, y_test)))\n"
   ]
  },
  {
   "cell_type": "markdown",
   "metadata": {},
   "source": [
    "### TOMEKLINKS "
   ]
  },
  {
   "cell_type": "code",
   "execution_count": 33,
   "metadata": {},
   "outputs": [
    {
     "data": {
      "text/plain": [
       "No     4596\n",
       "Yes    1869\n",
       "Name: Churn, dtype: int64"
      ]
     },
     "execution_count": 33,
     "metadata": {},
     "output_type": "execute_result"
    }
   ],
   "source": [
    "from imblearn.under_sampling import TomekLinks\n",
    "\n",
    "tl = TomekLinks('majority')\n",
    "\n",
    "X_tl, y_tl = tl.fit_resample(np.array(X), y)\n",
    "\n",
    "y_tl.value_counts()"
   ]
  },
  {
   "cell_type": "markdown",
   "metadata": {},
   "source": [
    "### TRANSFORM TOMELINKS"
   ]
  },
  {
   "cell_type": "code",
   "execution_count": 34,
   "metadata": {},
   "outputs": [
    {
     "data": {
      "text/html": [
       "<div>\n",
       "<style scoped>\n",
       "    .dataframe tbody tr th:only-of-type {\n",
       "        vertical-align: middle;\n",
       "    }\n",
       "\n",
       "    .dataframe tbody tr th {\n",
       "        vertical-align: top;\n",
       "    }\n",
       "\n",
       "    .dataframe thead th {\n",
       "        text-align: right;\n",
       "    }\n",
       "</style>\n",
       "<table border=\"1\" class=\"dataframe\">\n",
       "  <thead>\n",
       "    <tr style=\"text-align: right;\">\n",
       "      <th></th>\n",
       "      <th>SeniorCitizen</th>\n",
       "      <th>tenure</th>\n",
       "      <th>MonthlyCharges</th>\n",
       "      <th>TotalCharges</th>\n",
       "      <th>4</th>\n",
       "      <th>5</th>\n",
       "      <th>6</th>\n",
       "      <th>7</th>\n",
       "      <th>8</th>\n",
       "      <th>9</th>\n",
       "      <th>...</th>\n",
       "      <th>12</th>\n",
       "      <th>13</th>\n",
       "      <th>14</th>\n",
       "      <th>15</th>\n",
       "      <th>16</th>\n",
       "      <th>17</th>\n",
       "      <th>18</th>\n",
       "      <th>19</th>\n",
       "      <th>20</th>\n",
       "      <th>21</th>\n",
       "    </tr>\n",
       "  </thead>\n",
       "  <tbody>\n",
       "    <tr>\n",
       "      <th>0</th>\n",
       "      <td>-0.43734</td>\n",
       "      <td>0.035998</td>\n",
       "      <td>-0.233070</td>\n",
       "      <td>-0.181635</td>\n",
       "      <td>0.989690</td>\n",
       "      <td>-0.972987</td>\n",
       "      <td>-0.658876</td>\n",
       "      <td>0.328008</td>\n",
       "      <td>-0.545593</td>\n",
       "      <td>1.581824</td>\n",
       "      <td>...</td>\n",
       "      <td>-0.545593</td>\n",
       "      <td>1.386136</td>\n",
       "      <td>-0.545593</td>\n",
       "      <td>-0.636258</td>\n",
       "      <td>-0.545593</td>\n",
       "      <td>-0.781417</td>\n",
       "      <td>-0.545593</td>\n",
       "      <td>-0.791464</td>\n",
       "      <td>1.934739</td>\n",
       "      <td>-0.57872</td>\n",
       "    </tr>\n",
       "    <tr>\n",
       "      <th>1</th>\n",
       "      <td>-0.43734</td>\n",
       "      <td>-1.259172</td>\n",
       "      <td>-0.335207</td>\n",
       "      <td>-0.962250</td>\n",
       "      <td>0.989690</td>\n",
       "      <td>-0.972987</td>\n",
       "      <td>-0.658876</td>\n",
       "      <td>0.328008</td>\n",
       "      <td>-0.545593</td>\n",
       "      <td>1.581824</td>\n",
       "      <td>...</td>\n",
       "      <td>-0.545593</td>\n",
       "      <td>-0.721430</td>\n",
       "      <td>-0.545593</td>\n",
       "      <td>-0.636258</td>\n",
       "      <td>-0.545593</td>\n",
       "      <td>-0.781417</td>\n",
       "      <td>-0.545593</td>\n",
       "      <td>-0.791464</td>\n",
       "      <td>-0.516866</td>\n",
       "      <td>-0.57872</td>\n",
       "    </tr>\n",
       "    <tr>\n",
       "      <th>2</th>\n",
       "      <td>-0.43734</td>\n",
       "      <td>0.481213</td>\n",
       "      <td>-0.715750</td>\n",
       "      <td>-0.202998</td>\n",
       "      <td>0.989690</td>\n",
       "      <td>-0.972987</td>\n",
       "      <td>-0.658876</td>\n",
       "      <td>-3.048702</td>\n",
       "      <td>-0.545593</td>\n",
       "      <td>1.581824</td>\n",
       "      <td>...</td>\n",
       "      <td>-0.545593</td>\n",
       "      <td>1.386136</td>\n",
       "      <td>-0.545593</td>\n",
       "      <td>1.571690</td>\n",
       "      <td>-0.545593</td>\n",
       "      <td>-0.781417</td>\n",
       "      <td>-0.545593</td>\n",
       "      <td>-0.791464</td>\n",
       "      <td>1.934739</td>\n",
       "      <td>-0.57872</td>\n",
       "    </tr>\n",
       "    <tr>\n",
       "      <th>3</th>\n",
       "      <td>-0.43734</td>\n",
       "      <td>-1.259172</td>\n",
       "      <td>0.219958</td>\n",
       "      <td>-0.943188</td>\n",
       "      <td>-1.010418</td>\n",
       "      <td>-0.972987</td>\n",
       "      <td>-0.658876</td>\n",
       "      <td>0.328008</td>\n",
       "      <td>-0.545593</td>\n",
       "      <td>-0.632182</td>\n",
       "      <td>...</td>\n",
       "      <td>-0.545593</td>\n",
       "      <td>-0.721430</td>\n",
       "      <td>-0.545593</td>\n",
       "      <td>-0.636258</td>\n",
       "      <td>-0.545593</td>\n",
       "      <td>-0.781417</td>\n",
       "      <td>-0.545593</td>\n",
       "      <td>-0.791464</td>\n",
       "      <td>-0.516866</td>\n",
       "      <td>-0.57872</td>\n",
       "    </tr>\n",
       "    <tr>\n",
       "      <th>4</th>\n",
       "      <td>-0.43734</td>\n",
       "      <td>-1.016328</td>\n",
       "      <td>1.173787</td>\n",
       "      <td>-0.650087</td>\n",
       "      <td>-1.010418</td>\n",
       "      <td>-0.972987</td>\n",
       "      <td>-0.658876</td>\n",
       "      <td>0.328008</td>\n",
       "      <td>-0.545593</td>\n",
       "      <td>-0.632182</td>\n",
       "      <td>...</td>\n",
       "      <td>-0.545593</td>\n",
       "      <td>1.386136</td>\n",
       "      <td>-0.545593</td>\n",
       "      <td>-0.636258</td>\n",
       "      <td>-0.545593</td>\n",
       "      <td>1.279726</td>\n",
       "      <td>-0.545593</td>\n",
       "      <td>1.263482</td>\n",
       "      <td>-0.516866</td>\n",
       "      <td>-0.57872</td>\n",
       "    </tr>\n",
       "  </tbody>\n",
       "</table>\n",
       "<p>5 rows × 22 columns</p>\n",
       "</div>"
      ],
      "text/plain": [
       "   SeniorCitizen    tenure  MonthlyCharges  TotalCharges         4         5  \\\n",
       "0       -0.43734  0.035998       -0.233070     -0.181635  0.989690 -0.972987   \n",
       "1       -0.43734 -1.259172       -0.335207     -0.962250  0.989690 -0.972987   \n",
       "2       -0.43734  0.481213       -0.715750     -0.202998  0.989690 -0.972987   \n",
       "3       -0.43734 -1.259172        0.219958     -0.943188 -1.010418 -0.972987   \n",
       "4       -0.43734 -1.016328        1.173787     -0.650087 -1.010418 -0.972987   \n",
       "\n",
       "          6         7         8         9  ...        12        13        14  \\\n",
       "0 -0.658876  0.328008 -0.545593  1.581824  ... -0.545593  1.386136 -0.545593   \n",
       "1 -0.658876  0.328008 -0.545593  1.581824  ... -0.545593 -0.721430 -0.545593   \n",
       "2 -0.658876 -3.048702 -0.545593  1.581824  ... -0.545593  1.386136 -0.545593   \n",
       "3 -0.658876  0.328008 -0.545593 -0.632182  ... -0.545593 -0.721430 -0.545593   \n",
       "4 -0.658876  0.328008 -0.545593 -0.632182  ... -0.545593  1.386136 -0.545593   \n",
       "\n",
       "         15        16        17        18        19        20       21  \n",
       "0 -0.636258 -0.545593 -0.781417 -0.545593 -0.791464  1.934739 -0.57872  \n",
       "1 -0.636258 -0.545593 -0.781417 -0.545593 -0.791464 -0.516866 -0.57872  \n",
       "2  1.571690 -0.545593 -0.781417 -0.545593 -0.791464  1.934739 -0.57872  \n",
       "3 -0.636258 -0.545593 -0.781417 -0.545593 -0.791464 -0.516866 -0.57872  \n",
       "4 -0.636258 -0.545593  1.279726 -0.545593  1.263482 -0.516866 -0.57872  \n",
       "\n",
       "[5 rows x 22 columns]"
      ]
     },
     "execution_count": 34,
     "metadata": {},
     "output_type": "execute_result"
    }
   ],
   "source": [
    " \n",
    "transformer = StandardScaler().fit(X_tl)\n",
    "X_tl_standarized = transformer.transform(X_tl)\n",
    "X_tl_standarized = pd.DataFrame(X_tl_standarized)\n",
    "X_tl_standarized.columns = X_tl_standarized.columns.astype(str)\n",
    "X_tl_standarized.rename(columns={'0':'SeniorCitizen', '1':'tenure', '2':'MonthlyCharges', '3':'TotalCharges'}, inplace=True)\n",
    "X_tl_standarized.head()\n"
   ]
  },
  {
   "cell_type": "code",
   "execution_count": 35,
   "metadata": {},
   "outputs": [],
   "source": [
    "X_train, X_test, y_train, y_test = train_test_split(X_tl_standarized, y_tl, test_size=0.3, random_state=100)"
   ]
  },
  {
   "cell_type": "code",
   "execution_count": 36,
   "metadata": {},
   "outputs": [
    {
     "data": {
      "text/plain": [
       "0.8103092783505155"
      ]
     },
     "execution_count": 36,
     "metadata": {},
     "output_type": "execute_result"
    }
   ],
   "source": [
    "model = LogisticRegression()\n",
    "model.fit(X_train,y_train)\n",
    "model.score(X_test,y_test)"
   ]
  },
  {
   "cell_type": "code",
   "execution_count": 37,
   "metadata": {},
   "outputs": [
    {
     "name": "stdout",
     "output_type": "stream",
     "text": [
      "The accuracy of the model is: 0.73\n"
     ]
    }
   ],
   "source": [
    "model_dt = DecisionTreeClassifier()\n",
    "model_dt.fit(X_train, y_train)\n",
    "predictions_dt = model.predict(X_test)\n",
    "print(\"The accuracy of the model is: {:4.2f}\".format(model_dt.score(X_test, y_test)))"
   ]
  },
  {
   "cell_type": "code",
   "execution_count": 38,
   "metadata": {},
   "outputs": [
    {
     "data": {
      "text/plain": [
       "No     4429\n",
       "Yes    1869\n",
       "Name: Churn, dtype: int64"
      ]
     },
     "execution_count": 38,
     "metadata": {},
     "output_type": "execute_result"
    }
   ],
   "source": [
    "\n",
    "X_tl_2, y_tl_2 = tl.fit_resample(np.array(X_tl), y_tl)\n",
    "\n",
    "y_tl_2.value_counts()"
   ]
  }
 ],
 "metadata": {
  "kernelspec": {
   "display_name": "Python 3",
   "language": "python",
   "name": "python3"
  },
  "language_info": {
   "codemirror_mode": {
    "name": "ipython",
    "version": 3
   },
   "file_extension": ".py",
   "mimetype": "text/x-python",
   "name": "python",
   "nbconvert_exporter": "python",
   "pygments_lexer": "ipython3",
   "version": "3.8.3"
  }
 },
 "nbformat": 4,
 "nbformat_minor": 4
}
